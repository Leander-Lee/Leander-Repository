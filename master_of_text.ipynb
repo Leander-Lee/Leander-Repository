{
 "cells": [
  {
   "cell_type": "code",
   "execution_count": 7,
   "id": "f5eabd6d-0f07-4b24-a335-570048c868bf",
   "metadata": {},
   "outputs": [],
   "source": [
    "from urllib import request\n",
    "\n",
    "url = \"https://www.gutenberg.org/cache/epub/10/pg10.txt\"\n",
    "\n",
    "#open url, read the url, decode into unicode\n",
    "pg10 = request.urlopen(url).read().decode(\"utf-8\")"
   ]
  },
  {
   "cell_type": "code",
   "execution_count": 11,
   "id": "ae8662c8-388b-4357-9639-839600a36ad2",
   "metadata": {},
   "outputs": [
    {
     "name": "stdout",
     "output_type": "stream",
     "text": [
      "Number of lines :99968\n"
     ]
    }
   ],
   "source": [
    "lines = len(pg10.splitlines())\n",
    "print(\"Number of lines :\" + str(lines))"
   ]
  },
  {
   "cell_type": "code",
   "execution_count": 12,
   "id": "4088c74d-2e1a-4f5e-831b-025e7263d84e",
   "metadata": {},
   "outputs": [
    {
     "name": "stdout",
     "output_type": "stream",
     "text": [
      "Word count: 795227\n"
     ]
    }
   ],
   "source": [
    "import re\n",
    "\n",
    "words = re.findall(\"[a-zA-Z_]+\", pg10)\n",
    "word_count = len(words)\n",
    "print(\"Word count: \" + str(word_count))"
   ]
  },
  {
   "cell_type": "code",
   "execution_count": 14,
   "id": "adecfba6-aa56-4bed-afa3-e073b1a0729f",
   "metadata": {},
   "outputs": [
    {
     "name": "stdout",
     "output_type": "stream",
     "text": [
      "Number of apostle, disregarding apostles: 47\n"
     ]
    }
   ],
   "source": [
    "lower = pg10.lower()\n",
    "apostle = len(re.findall(r\"\\bapostle\\b\", lower))\n",
    "print(\"Number of apostle, disregarding apostles: \" + str(apostle))"
   ]
  },
  {
   "cell_type": "code",
   "execution_count": 25,
   "id": "222cb519-2822-4505-a509-f5cb3e5b172c",
   "metadata": {},
   "outputs": [
    {
     "name": "stdout",
     "output_type": "stream",
     "text": [
      "Most common word: the\n"
     ]
    }
   ],
   "source": [
    "from collections import Counter\n",
    "import re\n",
    "\n",
    "words = re.findall(\"[a-zA-Z_]+\", pg10)\n",
    "\n",
    "count = Counter(word.lower() for word in words)\n",
    "most_words = count.most_common(1)[0][0]\n",
    "\n",
    "print(\"Most common word: \" + str(most_words))"
   ]
  }
 ],
 "metadata": {
  "kernelspec": {
   "display_name": "Python [conda env:base] *",
   "language": "python",
   "name": "conda-base-py"
  },
  "language_info": {
   "codemirror_mode": {
    "name": "ipython",
    "version": 3
   },
   "file_extension": ".py",
   "mimetype": "text/x-python",
   "name": "python",
   "nbconvert_exporter": "python",
   "pygments_lexer": "ipython3",
   "version": "3.12.7"
  }
 },
 "nbformat": 4,
 "nbformat_minor": 5
}
