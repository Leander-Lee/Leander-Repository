{
 "cells": [
  {
   "cell_type": "code",
   "execution_count": 7,
   "id": "f5eabd6d-0f07-4b24-a335-570048c868bf",
   "metadata": {},
   "outputs": [],
   "source": [
    "from urllib import request\n",
    "\n",
    "url = \"https://www.gutenberg.org/cache/epub/10/pg10.txt\"\n",
    "\n",
    "#open url, read the url, decode into unicode\n",
    "pg10 = request.urlopen(url).read().decode(\"utf-8\")"
   ]
  },
  {
   "cell_type": "code",
   "execution_count": 11,
   "id": "ae8662c8-388b-4357-9639-839600a36ad2",
   "metadata": {},
   "outputs": [
    {
     "name": "stdout",
     "output_type": "stream",
     "text": [
      "Number of lines :99968\n"
     ]
    }
   ],
   "source": [
    "lines = len(pg10.splitlines())\n",
    "print(\"Number of lines :\" + str(lines))"
   ]
  },
  {
   "cell_type": "code",
   "execution_count": 29,
   "id": "4088c74d-2e1a-4f5e-831b-025e7263d84e",
   "metadata": {},
   "outputs": [
    {
     "name": "stdout",
     "output_type": "stream",
     "text": [
      "Number of words: 795227\n"
     ]
    }
   ],
   "source": [
    "words = []\n",
    "current = []\n",
    "\n",
    "for i in pg10:\n",
    "    if i.isalpha():\n",
    "        current.append(i)\n",
    "    else:\n",
    "        if current:\n",
    "            word = \"\".join(current)\n",
    "            words.append(word)\n",
    "            current = []\n",
    "if current:\n",
    "    word = \"\".join(current)\n",
    "    words.append(word)\n",
    "\n",
    "number = len(words)\n",
    "print(\"Number of words: \" + str(number))\n"
   ]
  },
  {
   "cell_type": "code",
   "execution_count": 26,
   "id": "adecfba6-aa56-4bed-afa3-e073b1a0729f",
   "metadata": {},
   "outputs": [
    {
     "name": "stdout",
     "output_type": "stream",
     "text": [
      "Number of apostle, disregarding apostles: 47\n"
     ]
    }
   ],
   "source": [
    "counter = 0\n",
    "\n",
    "for i in words:\n",
    "    if i.lower() == \"apostle\":\n",
    "        counter += 1\n",
    "\n",
    "print(\"Number of apostle, disregarding apostles: \" + str(counter))"
   ]
  },
  {
   "cell_type": "code",
   "execution_count": 41,
   "id": "222cb519-2822-4505-a509-f5cb3e5b172c",
   "metadata": {},
   "outputs": [
    {
     "name": "stdout",
     "output_type": "stream",
     "text": [
      "Most common word: the\n"
     ]
    }
   ],
   "source": [
    "count = {}\n",
    "\n",
    "for i in words:\n",
    "    lower = i.lower()\n",
    "    if lower in count:\n",
    "        count[lower] += 1\n",
    "    else:\n",
    "        count[lower] = 1\n",
    "\n",
    "number_count = 0\n",
    "word_count = \"\"\n",
    "\n",
    "for word, number in count.items():\n",
    "    if number > number_count:\n",
    "        word_count = word\n",
    "        number_count = number\n",
    "\n",
    "print(\"Most common word: \" + str(word_count))"
   ]
  },
  {
   "cell_type": "code",
   "execution_count": null,
   "id": "3674bde9-e6c0-470f-9e8a-e431e5ca7f11",
   "metadata": {},
   "outputs": [],
   "source": []
  }
 ],
 "metadata": {
  "kernelspec": {
   "display_name": "Python [conda env:base] *",
   "language": "python",
   "name": "conda-base-py"
  },
  "language_info": {
   "codemirror_mode": {
    "name": "ipython",
    "version": 3
   },
   "file_extension": ".py",
   "mimetype": "text/x-python",
   "name": "python",
   "nbconvert_exporter": "python",
   "pygments_lexer": "ipython3",
   "version": "3.12.7"
  }
 },
 "nbformat": 4,
 "nbformat_minor": 5
}
